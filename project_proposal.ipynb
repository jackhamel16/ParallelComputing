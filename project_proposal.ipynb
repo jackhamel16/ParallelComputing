{
 "cells": [
  {
   "cell_type": "markdown",
   "metadata": {},
   "source": [
    "<p style=\"text-align: right;\">\n",
    "In order to successfully complete this assignment you need to turn in a project proposal to D2L on or before **11:59pm Friday February 22nd**.\n",
    "</p>\n"
   ]
  },
  {
   "cell_type": "markdown",
   "metadata": {},
   "source": [
    "# <center> Parallelization of the AIM algorithm as applied to QuEST </center>\n",
    "\n",
    "<center>By Jack Hamel</center>"
   ]
  },
  {
   "cell_type": "markdown",
   "metadata": {},
   "source": [
    "<img src=\"http://www.dannex.se/theory/pict/image122.gif\" width=\"20%\">\n",
    "<p style=\"text-align: right;\">Image from: http://www.dannex.se/theory/pict/image122.gif</p>"
   ]
  },
  {
   "cell_type": "markdown",
   "metadata": {},
   "source": [
    "---\n",
    "# Abstract\n",
    "\n",
    "Computational electromagnetics (CEM) is an increasingly important field of science and engineering.  The premise of this field is to develop fast, accurate, and large-scale simulations of electromagnetic systems to understand fundamental science and improve engineering designs.  Interesting applications of CEM include designing electromagnetic materials, understanding electromagnetic scattering from stealth aircraft, and predicting propagation patterns of antennas without any physical experimentation or prototyping.  CEM is a field that combines, my two favorite domains, computational science and electromagnetics so it was a natural choice for me to pursue a project in this area.  The Quantum Electromagnetics Simulation Toolbox (QuEST) is a simulation of the electromagnetic interactions between quantum dots developed by Connor Glosser at Michigan State University.  The program uses the Adaptive Integral Method (AIM) to accelerate the computation by mapping and aggregating interactions between particles to points on a uniform grid to accelerate matrix vector products bottlenecking the computation time.  The goal of this project is to investigate key areas of the AIM algorithm that can be parallelized.  Currently, I am hopeful that FFT computations and filling of the interaction matrix can be parallelized across CPUs.  My initial thoughts on software to use will be FFTW++ for parallel fast fourier transforms and openMP for all other shared memory parallelization.  "
   ]
  },
  {
   "cell_type": "markdown",
   "metadata": {},
   "source": [
    "---\n",
    "# Part 1 Software Exploration\n",
    "\n",
    "I plan on using two software packages to parallelize QuEST.  The first package is FFTW++ to use parallel Fast Fourier Transforms (FFT).  This library is compatible with OpenMP architectures so I should be able to use this library on the HPC.  I will begin by reading the documentation on the library briefly and follow it up by determining whether or not it will be compatible with QuEST.  If it looks like it will be a useful library, then I will download and figure out how to use it on the HPC.  I plan to start my research here: http://fftwpp.sourceforge.net.\n",
    "\n",
    "The second software package I will use is OpenMP for shared memory parallelization of QuEST.  My hope is that this can be easily implemented around some of the pleasently parallel loops in QuEST to achieve a low-human-cost parallelization.  I also hope to identify so trickier/non-obvious areas to parallelize using OpenMP.  This is already installed on the HPC and I already know how to use it with C++.  I think this will be my primary reference: https://www.openmp.org/wp-content/uploads/OpenMPRef-5.0-111802-web.pdf\n",
    "\n",
    "I may face complications in compiling QuEST with these new libraries because it uses CMake.  This will be determined early on and dealt with if necessary.\n",
    "\n",
    "Ideally, I hope that I can seamlessly integrate these libraries into how QuEST is currently compiled and ran.  If changes are made, then I will need to provide detailed documentation on them.  I do not think running QuEST on the HPC has been done post-SLURM so I may need to figure out how to do that and write instructions for it."
   ]
  },
  {
   "cell_type": "markdown",
   "metadata": {},
   "source": [
    "---\n",
    "# Part 2 Benchmark and Optimization\n",
    "\n",
    "QuEST likely spends most of its time numerically integrating the differential equation used to update the status of quantum dots in the system and computing the interactions between dots.  I will be focusing on the interactions because that is where AIM is being used.  I will benchmark, at a minimum, the performance of the entire QuEST simulation and the interaction computation.  Within the interaction computation, I will benchmark various parts to identify slow areas so that they can become the focus of my work trying to speed up the code.  I will be looking at the FFT computation as well as filling the interaction matrix, at a minimum.  During benchmarking, I will probably need to write a script to compare the simulation results to a known correct set of results.  Additionally, I need to find a set of simulation inputs that will provide me with enough runtime to see a difference and that is within the constraints of the simulation.  \n",
    "\n",
    "My highest hope for this project is that the changes I made will be good enough to be merged into the master branch of QuEST.  At the very least, I would like to have a faster code that can be augmented to eventually make its way into a parallel version of QuEST."
   ]
  },
  {
   "cell_type": "markdown",
   "metadata": {},
   "source": [
    "-----\n",
    "### &#9989;  Congratulations, you are done!\n",
    "\n",
    "Now, you just need to submit this report by uploading it to the course <a href=\"https://d2l.msu.edu/\">Desire2Learn</a> web page for today's dropbox."
   ]
  }
 ],
 "metadata": {
  "anaconda-cloud": {},
  "kernelspec": {
   "display_name": "Python [default]",
   "language": "python",
   "name": "python3"
  },
  "language_info": {
   "codemirror_mode": {
    "name": "ipython",
    "version": 3
   },
   "file_extension": ".py",
   "mimetype": "text/x-python",
   "name": "python",
   "nbconvert_exporter": "python",
   "pygments_lexer": "ipython3",
   "version": "3.5.3"
  }
 },
 "nbformat": 4,
 "nbformat_minor": 1
}
